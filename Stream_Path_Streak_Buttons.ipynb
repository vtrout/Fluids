{
 "cells": [
  {
   "cell_type": "markdown",
   "metadata": {},
   "source": [
    "# Question 2\n",
    "\n",
    "For a given flow, the velocity from time $t=0$ to $t=10\\;s$ was $u=2\\;m/s$, $v=0$. \n",
    "\n",
    "Then, from time $t=10\\;s$ to $t=15\\;s$, the velocity was $u=3\\;m/s$, $v=-4\\;m/s$.\n",
    "\n",
    "A dye streak was started at a point in the flow field at time $t=0$, and the path of a particle in the fluid was also traced from that same point starting at the same time. \n",
    "\n",
    "Plot the <font color=blue>**streamline**</font>, <font color=green>**pathline**</font> of the particle, and <font color=red>**streakline**</font> at time $t=15\\;s$."
   ]
  },
  {
   "cell_type": "code",
   "execution_count": 1,
   "metadata": {},
   "outputs": [],
   "source": [
    "#---# import packages\n",
    "import numpy as np\n",
    "import matplotlib.pyplot as plt\n",
    "\n",
    "from IPython.display import display, clear_output\n",
    "import ipywidgets as widgets"
   ]
  },
  {
   "cell_type": "markdown",
   "metadata": {},
   "source": [
    "---"
   ]
  },
  {
   "cell_type": "markdown",
   "metadata": {},
   "source": [
    "# Given Flow\n",
    "You can edit these vectors to change the flow, or the point of interest.\n",
    "\n",
    "The format is as follows:  \n",
    "$\\texttt{u}_{\\texttt{given}}[\\texttt{i}], \\texttt{v}_{\\texttt{given}}[\\texttt{i}]\\rightarrow \n",
    "\\begin{cases}\n",
    "    \\texttt{t} \\geq \\texttt{t}_{\\texttt{given}}[\\texttt{i}]\\\\\n",
    "    \\texttt{t}<\\texttt{t}_{\\texttt{given}}[\\texttt{i+1}]\n",
    "\\end{cases}$"
   ]
  },
  {
   "cell_type": "markdown",
   "metadata": {},
   "source": [
    "### _Edit this section:_"
   ]
  },
  {
   "cell_type": "code",
   "execution_count": 2,
   "metadata": {},
   "outputs": [],
   "source": [
    "#---# given flow\n",
    "t_given = np.array([0.,9.,15.]) # [s]\n",
    "u_given = np.array([2.,3.]) # [m/s]\n",
    "v_given = np.array([0.,-4.]) # [m/s]\n",
    "\n",
    "#---# initial position\n",
    "x_o = 0.0 # [m]\n",
    "y_o = 0.0 # [m]\n",
    "\n",
    "#---# time step\n",
    "del_t = .5 # [s] "
   ]
  },
  {
   "cell_type": "markdown",
   "metadata": {},
   "source": [
    "---"
   ]
  },
  {
   "cell_type": "code",
   "execution_count": 3,
   "metadata": {},
   "outputs": [],
   "source": [
    "#---# create time & velocity vectors\n",
    "t = np.arange(t_given[0],t_given[-1]+del_t,del_t) \n",
    "u_t = np.zeros(t.size)\n",
    "v_t = np.zeros(t.size) \n",
    "\n",
    "#--# fill in values\n",
    "for i in range(0,t_given.size-1):\n",
    "    for j in np.where([(t >= t_given[i]) & (t<t_given[i+1])])[1]:\n",
    "            u_t[j] = u_given[i]\n",
    "            v_t[j] = v_given[i]\n",
    "u_t[-1] = u_given[-1]; v_t[-1] = v_given[-1]\n",
    "\n",
    "#---# plot settings\n",
    "fig_dpi = 100 # printed size of figure\n",
    "buffer = 10 # extend axes\n",
    "line_w = 2 # linewidth\n",
    "marker_sm = 5; marker_lg = 10 # markersizes \n",
    "vel_c = '.5'; vel_s = 30 # velocity field color & scale\n",
    "vel_n = 10 # grid size\n",
    "l_e = 'w' # legend edge color"
   ]
  },
  {
   "cell_type": "markdown",
   "metadata": {},
   "source": [
    "# <font color=blue>Streamline</font>\n",
    "<font color=blue>Instantaneously tangent to the velocity</font>"
   ]
  },
  {
   "cell_type": "code",
   "execution_count": 4,
   "metadata": {},
   "outputs": [],
   "source": [
    "#---# create streamline vector\n",
    "x_stream = np.zeros(t.size)\n",
    "y_stream = np.zeros(t.size) \n",
    "\n",
    "#---# calculate streamline vector\n",
    "for i in range(0,t.size):\n",
    "    x_stream[i] = x_o + u_t[i]*del_t # [m] # position always relative to initial position\n",
    "    y_stream[i] = y_o + v_t[i]*del_t # [m]\n",
    "    \n",
    "#---# streamline min/max (for figure axis)\n",
    "stream_axis = np.zeros(4,)\n",
    "stream_axis[0] = np.amin(x_stream)-buffer; stream_axis[1] = np.amax(x_stream)+buffer\n",
    "stream_axis[2] = np.amin(y_stream)-buffer; stream_axis[3] = np.amax(y_stream)+buffer"
   ]
  },
  {
   "cell_type": "markdown",
   "metadata": {},
   "source": [
    "# <font color=green>Pathline</font>\n",
    "<font color=green>Trajectory of fluid particle</font>"
   ]
  },
  {
   "cell_type": "code",
   "execution_count": 5,
   "metadata": {},
   "outputs": [],
   "source": [
    "#---# create pathline vector\n",
    "x_path = np.zeros(t.size); y_path = np.zeros(t.size) \n",
    "\n",
    "#---# calculate pathline vector\n",
    "x_path[0]=x_o; y_path[0]=y_o # initial position of particle\n",
    "\n",
    "for i in range(1,t.size):\n",
    "    x_path[i] = x_path[i-1] + u_t[i-1]*del_t # [m] # particle moving forward in time\n",
    "    y_path[i] = y_path[i-1] + v_t[i-1]*del_t # [m]\n",
    "    \n",
    "#---# pathline min/max (for figure axis)\n",
    "path_axis = np.zeros(4,)\n",
    "path_axis[0] = np.amin(x_path)-buffer; path_axis[1] = np.amax(x_path)+buffer\n",
    "path_axis[2] = np.amin(y_path)-buffer; path_axis[3] = np.amax(y_path)+buffer"
   ]
  },
  {
   "cell_type": "markdown",
   "metadata": {},
   "source": [
    "# <font color=red>Streakline</font>\n",
    "<font color=red>Dye injected at fixed point</font>"
   ]
  },
  {
   "cell_type": "code",
   "execution_count": 6,
   "metadata": {},
   "outputs": [],
   "source": [
    "#---# create streakline vector\n",
    "x_streak = np.multiply(x_o,np.ones(t.size)); y_streak = np.multiply(y_o,np.ones(t.size)) \n",
    "# (dye is continuously released from same position)\n",
    "\n",
    "#---# streakline min/max (for figure)\n",
    "streak_axis = np.array([x_o, x_o, y_o, y_o]) # starting values\n",
    "\n",
    "#---# calculate streakline vector\n",
    "for i in range(1,t.size):\n",
    "    x_streak[:i] = x_streak[:i] + u_t[i-1]*del_t # entire past dye streak moving forward in time\n",
    "    y_streak[:i] = y_streak[:i] + v_t[i-1]*del_t\n",
    "    \n",
    "    # compare min/max to existing values\n",
    "    streak_axis[0] = np.amin([np.amin(x_streak), streak_axis[0]])\n",
    "    streak_axis[1] = np.amax([np.amax(x_streak), streak_axis[1]])\n",
    "    streak_axis[2] = np.amin([np.amin(y_streak), streak_axis[2]])\n",
    "    streak_axis[3] = np.amax([np.amax(y_streak), streak_axis[3]])\n",
    "\n",
    "#---# streakline min/max (for figure)\n",
    "streak_axis[0] = streak_axis[0]-buffer; streak_axis[1] = streak_axis[1]+buffer\n",
    "streak_axis[2] = streak_axis[2]-buffer; streak_axis[3] = streak_axis[3]+buffer"
   ]
  },
  {
   "cell_type": "code",
   "execution_count": 11,
   "metadata": {},
   "outputs": [],
   "source": [
    "#---# calculate global min/max (for figure)\n",
    "all_axis = np.zeros(4,)\n",
    "all_axis[0] = np.amin([stream_axis[0], path_axis[0], streak_axis[0]])\n",
    "all_axis[1] = np.amax([stream_axis[1], path_axis[1], streak_axis[1]])\n",
    "all_axis[2] = np.amin([stream_axis[2], path_axis[2], streak_axis[2]])\n",
    "all_axis[3] = np.amax([stream_axis[3], path_axis[3], streak_axis[3]])\n",
    "\n",
    "#---# define plotting function\n",
    "def plot_func(k, plot_stream, plot_path, plot_streak):\n",
    "    \n",
    "    #--# create figure, set axis\n",
    "    fig = plt.figure(dpi=fig_dpi) \n",
    "    ax = plt.axes(xlim=(np.amin([x_stream,x_path,x_streak])-buffer, np.amax([x_stream,x_path,x_streak])+buffer),\n",
    "              ylim=(np.amin([y_stream,y_path,y_streak])-buffer, np.amax([y_stream,y_path,y_streak])+buffer),\n",
    "              xlabel=('X [m]'), ylabel=('Y [m]'), aspect=('equal')) \n",
    "\n",
    "    #--# title\n",
    "    ax.set_title('t = {:.2f} s'.format(t[k]))  \n",
    "\n",
    "    #--# streakline\n",
    "    if plot_streak:\n",
    "        # Calculate\n",
    "        x_s = np.multiply(x_o,np.ones(k+1,)) # dye injection point\n",
    "        y_s = np.multiply(y_o,np.ones(k+1,))\n",
    "        if k>0:\n",
    "            for i in range(1,k+1):\n",
    "                x_s[:i] = x_s[:i] + u_t[i-1]*del_t\n",
    "                y_s[:i] = y_s[:i] + v_t[i-1]*del_t\n",
    "        \n",
    "        plt.plot(x_s, y_s, color='red', linestyle='-', linewidth=line_w, \n",
    "            label='Streakline')   \n",
    "        # dye released\n",
    "        plt.plot(x_o, y_o, color='red', linestyle='None',marker='s', markersize=marker_sm, \n",
    "            label='Dye Released')    \n",
    "    \n",
    "    #--# streamline\n",
    "    if plot_stream:\n",
    "        plt.plot([x_o, x_stream[k]], [y_o, y_stream[k]], color='blue', linewidth=line_w*2, \n",
    "            label='Streamline')\n",
    "        plt.plot([], [], color='white', \n",
    "            label=' ') # empty legend field for plotting\n",
    "    \n",
    "    #--# pathline\n",
    "    if plot_path:\n",
    "        plt.plot(x_path[:k+1], y_path[:k+1], color='green', linestyle='--', linewidth=line_w, \n",
    "            label='Pathline') \n",
    "        # current particle position\n",
    "        plt.plot(x_path[k],y_path[k], color='green', linestyle='None',marker='o', markersize=marker_sm, \n",
    "            label='Particle Position')\n",
    "    \n",
    "    #--# initial position\n",
    "    plt.plot(x_o, y_o, color='black', alpha=.2, linestyle='None', marker='o', markersize=marker_lg, \n",
    "         label='Initial Position')\n",
    "    \n",
    "    #--# velocity field\n",
    "    # create grid\n",
    "    x_vals = np.linspace(np.amin([x_stream,x_path,x_streak])-buffer,np.amax([x_stream,x_path,x_streak])+buffer,vel_n)\n",
    "    y_vals = np.linspace(np.amin([y_stream,y_path,y_streak])-buffer,np.amax([y_stream,y_path,y_streak])+buffer,vel_n)\n",
    "    X,Y= np.meshgrid(x_vals, y_vals, sparse=False, indexing='xy')\n",
    "    # input velocity\n",
    "    U = np.multiply(u_t[k],np.ones(X.size)) \n",
    "    V = np.multiply(v_t[k],np.ones(X.size))\n",
    "    vel_field = ax.quiver(X, Y, U, V, color=vel_c, scale=vel_s, pivot='mid', \n",
    "        label='Velocity Field')\n",
    "    \n",
    "    #--# legend \n",
    "    box = ax.get_position()\n",
    "    ax.set_position([box.x0+box.width*0.2/2, box.y0+box.height*0.2, box.width*0.8, box.height*0.8])\n",
    "    ax.legend(loc='upper center', bbox_to_anchor=(0.5, -0.17), ncol=4, edgecolor=l_e)"
   ]
  },
  {
   "cell_type": "code",
   "execution_count": 13,
   "metadata": {},
   "outputs": [
    {
     "data": {
      "application/vnd.jupyter.widget-view+json": {
       "model_id": "6dc1cc4bd35e4242a4592fd00ce2d402",
       "version_major": 2,
       "version_minor": 0
      },
      "text/plain": [
       "HBox(children=(VBox(children=(IntSlider(value=10, description='Time Step', max=30), Checkbox(value=True, descr…"
      ]
     },
     "metadata": {},
     "output_type": "display_data"
    }
   ],
   "source": [
    "#---# create interactive ipywidget\n",
    "k=widgets.IntSlider(min=0, max=t.size-1, step=1, value=10, description='Time Step')\n",
    "plot_stream=widgets.Checkbox(value=True, description='Streamline')\n",
    "plot_path=widgets.Checkbox(value=True, description='Pathline')\n",
    "plot_streak=widgets.Checkbox(value=True, description='Streakline')\n",
    "# function output = plot\n",
    "out = widgets.interactive_output(plot_func, {'k': k, 'plot_stream': plot_stream,\n",
    "                                             'plot_path': plot_path, 'plot_streak': plot_streak})\n",
    "#---# align widgets \n",
    "ui = widgets.VBox([k, plot_streak, plot_stream, plot_path]) # inputs vertically stacked\n",
    "display(widgets.HBox([ui, out])) # display with plot horizontally"
   ]
  }
 ],
 "metadata": {
  "kernelspec": {
   "display_name": "Python 3",
   "language": "python",
   "name": "python3"
  },
  "language_info": {
   "codemirror_mode": {
    "name": "ipython",
    "version": 3
   },
   "file_extension": ".py",
   "mimetype": "text/x-python",
   "name": "python",
   "nbconvert_exporter": "python",
   "pygments_lexer": "ipython3",
   "version": "3.7.3"
  }
 },
 "nbformat": 4,
 "nbformat_minor": 4
}
